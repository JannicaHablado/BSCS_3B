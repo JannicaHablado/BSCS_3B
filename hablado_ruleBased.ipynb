{
  "nbformat": 4,
  "nbformat_minor": 0,
  "metadata": {
    "colab": {
      "name": "hablado_ruleBased.ipynb",
      "provenance": [],
      "collapsed_sections": [],
      "authorship_tag": "ABX9TyPykFBB7kzbmk1PtxDsf57+",
      "include_colab_link": true
    },
    "kernelspec": {
      "name": "python3",
      "display_name": "Python 3"
    },
    "language_info": {
      "name": "python"
    }
  },
  "cells": [
    {
      "cell_type": "markdown",
      "metadata": {
        "id": "view-in-github",
        "colab_type": "text"
      },
      "source": [
        "<a href=\"https://colab.research.google.com/github/JannicaHablado/BSCS_3B/blob/BSCS_3B/hablado_ruleBased.ipynb\" target=\"_parent\"><img src=\"https://colab.research.google.com/assets/colab-badge.svg\" alt=\"Open In Colab\"/></a>"
      ]
    },
    {
      "cell_type": "code",
      "metadata": {
        "colab": {
          "base_uri": "https://localhost:8080/"
        },
        "id": "klOYzx0PmtVf",
        "outputId": "4dc75759-fd47-4c2a-fe72-c06bee3d9ce8"
      },
      "source": [
        "# Importing modules\n",
        "\n",
        "import re\n",
        "from nltk.corpus import wordnet\n",
        "import nltk\n",
        "nltk.download('wordnet')\n",
        "\n",
        "# Building a list of Keywords\n",
        " \n",
        "list_words=['hello','timings','send','account','talk','agent']\n",
        "list_syn={}\n",
        "for word in list_words:\n",
        "    synonyms=[]\n",
        "    for syn in wordnet.synsets(word):\n",
        "        for lem in syn.lemmas():\n",
        "            \n",
        "            # Remove any special characters from synonym strings\n",
        "            lem_name = re.sub('[^a-zA-Z0-9 \\n\\.]', ' ', lem.name())\n",
        "            synonyms.append(lem_name)\n",
        "   \n",
        "    list_syn[word]=set(synonyms)\n",
        "    \n",
        "print (list_syn)\n",
        "\n",
        "# Building dictionary of Intents & Keywords\n",
        "keywords={}\n",
        "keywords_dict={}\n",
        " \n",
        "# Defining a new key in the keywords dictionary\n",
        "keywords['greet']=[]\n",
        " \n",
        "# Populating the values in the keywords dictionary with synonyms of keywords formatted with RegEx metacharacters \n",
        "for synonym in list(list_syn['hello']):\n",
        "    keywords['greet'].append('.*\\\\b'+synonym+'\\\\b.*')\n",
        " \n",
        "# Defining a new key in the keywords dictionary\n",
        "keywords['timings']=[]\n",
        " \n",
        "# Populating the values in the keywords dictionary with synonyms of keywords formatted with RegEx metacharacters \n",
        "for synonym in list(list_syn['timings']):\n",
        "    keywords['timings'].append('.*\\\\b'+synonym+'\\\\b.*')\n",
        "\n",
        "#Defining a new key in the keywords dictionary\n",
        "keywords['send']=[]\n",
        " \n",
        "# Populating the values in the keywords dictionary with synonyms of keywords formatted with RegEx metacharacters \n",
        "for synonym in list(list_syn['send']):\n",
        "    keywords['send'].append('.*\\\\b'+synonym+'\\\\b.*')\n",
        " \n",
        " #Defining a new key in the keywords dictionary\n",
        "keywords['account']=[]\n",
        " \n",
        "# Populating the values in the keywords dictionary with synonyms of keywords formatted with RegEx metacharacters \n",
        "for synonym in list(list_syn['account']):\n",
        "    keywords['account'].append('.*\\\\b'+synonym+'\\\\b.*')\n",
        "\n",
        "#Defining a new key in the keywords dictionary\n",
        "keywords['talk_agent']=[]\n",
        "    # Populating the values in the keywords dictionary with synonyms of keywords formatted with RegEx metacharacters \n",
        "for synonym in list(list_syn['talk']):\n",
        "    keywords['talk_agent'].append('.*\\\\b'+synonym+'\\\\b.*')\n",
        "for synonym in list(list_syn['agent']):\n",
        "    keywords['talk_agent'].append('.*\\\\b'+synonym+'\\\\b.*')\n",
        "for intent, keys in keywords.items():\n",
        "    \n",
        "    # Joining the values in the keywords dictionary with the OR (|) operator updating them in keywords_dict dictionary\n",
        "    keywords_dict[intent]=re.compile('|'.join(keys))\n",
        "print (keywords_dict)\n",
        "\n",
        "# Building a dictionary of responses\n",
        "responses={\n",
        "    'greet':'Hello! How can I help you?',\n",
        "    'timings':'We are open from 9AM to 5PM, Monday to Friday. We are closed on weekends and public holidays.',\n",
        "    'ask': 'How can I open a bank account?.',\n",
        "    'fallback':'I dont quite understand. Could you repeat that?',\n",
        "    'send': 'Log in to your online account and select the option for making a payment. Follow the instructions on screen to enter the correct details.',\n",
        "    'account': 'You can check your account balance online anytime—and much more. To get started, navigate to your bank’s website and access your account information. You can also use a mobile app.',\n",
        "    'talk_agent':'Sorry! At this moment our agent is not available.'\n",
        "}\n",
        "print (\"Welcome to MyBank. How may I help you?\")\n",
        "\n",
        "# While loop to run the chatbot indefinetely\n",
        "while (True):  \n",
        "    \n",
        "    # Takes the user input and converts all characters to lowercase\n",
        "    user_input = input().lower()\n",
        "    \n",
        "    # Defining the Chatbot's exit condition\n",
        "    if user_input == 'quit': \n",
        "        print (\"Thank you for visiting.\")\n",
        "        break    \n",
        "    \n",
        "    matched_intent = None \n",
        "    \n",
        "    for intent,pattern in keywords_dict.items():\n",
        "        \n",
        "        # Using the regular expression search function to look for keywords in user input\n",
        "        if re.search(pattern, user_input): \n",
        "            \n",
        "            # if a keyword matches, select the corresponding intent from the keywords_dict dictionary\n",
        "            matched_intent=intent  \n",
        "    \n",
        "    # The fallback intent is selected by default\n",
        "    key='fallback' \n",
        "    if matched_intent in responses:\n",
        "        \n",
        "        # If a keyword matches, the fallback intent is replaced by the matched intent as the key for the responses dictionary\n",
        "        key = matched_intent \n",
        "    \n",
        "    # The chatbot prints the response that matches the selected intent\n",
        "    print (responses[key]) \n",
        "\n"
      ],
      "execution_count": null,
      "outputs": [
        {
          "output_type": "stream",
          "text": [
            "[nltk_data] Downloading package wordnet to /root/nltk_data...\n",
            "[nltk_data]   Package wordnet is already up-to-date!\n",
            "{'hello': {'how do you do', 'hi', 'hullo', 'hello', 'howdy'}, 'timings': {'clock', 'time', 'timing'}, 'send': {'commit', 'transmit', 'send', 'get off', 'air', 'institutionalise', 'institutionalize', 'send out', 'send off', 'place', 'post', 'station', 'ship', 'broadcast', 'direct', 'transport', 'mail', 'beam', 'charge'}, 'account': {'write up', 'account', 'story', 'chronicle', 'bill', 'accounting', 'calculate', 'news report', 'answer for', 'invoice', 'score', 'business relationship', 'history', 'report', 'describe', 'explanation', 'account statement'}, 'talk': {'babble', 'utter', 'spill the beans', 'mouth', 'blab out', 'verbalise', 'talking', 'talk of the town', 'tattle', 'blab', 'verbalize', 'lecture', 'sing', 'talk', 'speak', 'babble out', 'let the cat out of the bag', 'spill', 'public lecture', 'peach'}, 'agent': {'federal agent', 'factor', 'agent', 'agentive role', 'broker'}}\n",
            "{'greet': re.compile('.*\\\\bhow do you do\\\\b.*|.*\\\\bhi\\\\b.*|.*\\\\bhullo\\\\b.*|.*\\\\bhello\\\\b.*|.*\\\\bhowdy\\\\b.*'), 'timings': re.compile('.*\\\\bclock\\\\b.*|.*\\\\btime\\\\b.*|.*\\\\btiming\\\\b.*'), 'send': re.compile('.*\\\\bcommit\\\\b.*|.*\\\\btransmit\\\\b.*|.*\\\\bsend\\\\b.*|.*\\\\bget off\\\\b.*|.*\\\\bair\\\\b.*|.*\\\\binstitutionalise\\\\b.*|.*\\\\binstitutionalize\\\\b.*|.*\\\\bsend out\\\\b.*|.*\\\\bsend off\\\\b.*|.*\\\\bplace\\\\b.*|.*\\\\bpos), 'account': re.compile('.*\\\\bwrite up\\\\b.*|.*\\\\baccount\\\\b.*|.*\\\\bstory\\\\b.*|.*\\\\bchronicle\\\\b.*|.*\\\\bbill\\\\b.*|.*\\\\baccounting\\\\b.*|.*\\\\bcalculate\\\\b.*|.*\\\\bnews report\\\\b.*|.*\\\\banswer for\\\\b.*|.*\\\\binvoice\\\\b.*|.*\\\\bscor), 'talk_agent': re.compile('.*\\\\bbabble\\\\b.*|.*\\\\butter\\\\b.*|.*\\\\bspill the beans\\\\b.*|.*\\\\bmouth\\\\b.*|.*\\\\bblab out\\\\b.*|.*\\\\bverbalise\\\\b.*|.*\\\\btalking\\\\b.*|.*\\\\btalk of the town\\\\b.*|.*\\\\btattle\\\\b.*|.*\\\\bblab\\\\b.*|.*\\\\bver)}\n",
            "Welcome to MyBank. How may I help you?\n"
          ],
          "name": "stdout"
        }
      ]
    },
    {
      "cell_type": "code",
      "metadata": {
        "id": "ds3yT6GfuBH-"
      },
      "source": [
        ""
      ],
      "execution_count": null,
      "outputs": []
    }
  ]
}